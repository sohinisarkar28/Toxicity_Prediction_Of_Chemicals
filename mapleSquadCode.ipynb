{
 "cells": [
  {
   "cell_type": "code",
   "execution_count": 1,
   "metadata": {},
   "outputs": [],
   "source": [
    "#Toxicity Prediction\n",
    "#Author : Shubham Deshmukh \n",
    "#Group : [Maple Squad]\n",
    "#Participants : Jaskiran Kaur, Sohini Sarkar, Shubham Deshmukh\n",
    "#Email : x2020gfv@stfx.ca\n",
    "#Student No. : 202006307"
   ]
  },
  {
   "cell_type": "code",
   "execution_count": 2,
   "metadata": {},
   "outputs": [],
   "source": [
    "#KAGGLE PRIVATE SCORE: 0.80294\n",
    "#F1 MACRO :            0.8085145591717199\n",
    "#Varince0.02 -> RFE 200 XGB default->RFECV GBC Default ->sampling-> scaling"
   ]
  },
  {
   "cell_type": "code",
   "execution_count": 19,
   "metadata": {},
   "outputs": [],
   "source": [
    "import pandas as pd\n",
    "import numpy as np\n",
    "from sklearn.impute import KNNImputer\n",
    "\n",
    "from sklearn.feature_selection import VarianceThreshold\n",
    "from sklearn.ensemble import GradientBoostingClassifier\n",
    "from sklearn.feature_selection import RFE, RFECV , SelectFromModel\n",
    "from sklearn.feature_selection import SelectKBest,f_classif\n",
    "\n",
    "\n",
    "from sklearn.model_selection import train_test_split, RandomizedSearchCV\n",
    "from sklearn.metrics import f1_score\n",
    "from sklearn.preprocessing import StandardScaler\n",
    "from imblearn.over_sampling import RandomOverSampler\n",
    "\n",
    "from xgboost.sklearn import XGBClassifier\n"
   ]
  },
  {
   "cell_type": "code",
   "execution_count": 20,
   "metadata": {},
   "outputs": [
    {
     "name": "stdout",
     "output_type": "stream",
     "text": [
      "-----------------1- DATA PREPARED SUCCESSFULLY-----------------\n"
     ]
    }
   ],
   "source": [
    "\n",
    "#importing dataset CSV files\n",
    "url_train_datafile = 'train.csv'\n",
    "url_test_datafile = 'test.csv'\n",
    "url_feamat_datafile = 'feamat.csv'\n",
    "url_mappings_datafile = 'features_id_name_mappings.csv' # We Dont have to Import this file as CSV for now\n",
    "\n",
    "\n",
    "train_rawdata = pd.read_csv(url_train_datafile)\n",
    "test_rawdata = pd.read_csv(url_test_datafile)\n",
    "feamat_rawdata = pd.read_csv(url_feamat_datafile)\n",
    "\n",
    "tempTrain =train_rawdata[\"Id\"].str.split(\";\", n = 1, expand = True) \n",
    "\n",
    "train_rawdata[\"AssayId\"]= tempTrain[1] \n",
    "train_rawdata[\"Id\"]= tempTrain[0]\n",
    "\n",
    "tempTest =test_rawdata[\"x\"].str.split(\";\", n = 1, expand = True) \n",
    "\n",
    "test_rawdata[\"AssayId\"]= tempTest[1] \n",
    "test_rawdata[\"Id\"]= tempTest[0]\n",
    "test_rawdata =  test_rawdata.drop(['x'],axis=1)\n",
    "\n",
    "\n",
    "# Removing the NA, Null and Infinty Values in Feature Matrix with mean Values\n",
    "feamat_rawdata = feamat_rawdata.replace([np.inf, -np.inf], np.nan)\n",
    "\n",
    "\n",
    "# train_rawdata , test_rawdata are our main Test Train dataset varibles \n",
    "\n",
    "newMergedDF = pd.merge(train_rawdata, feamat_rawdata,left_on='Id', right_on='V1', how = \"left\")\n",
    "\n",
    "#Replacing NOCAS_ with constant number(999) and removing -*\n",
    "newMergedDF[['V1','Id']] = newMergedDF[['V1','Id']].replace('NOCAS_','999', regex=True)\n",
    "newMergedDF[['V1','Id']] = newMergedDF[['V1','Id']].replace('-*','',regex=True)\n",
    "newMergedDF =  newMergedDF.drop(['V1'],axis=1)#,'V2,'Id'\n",
    "#newMergedDF is our new merged DataSet ()\n",
    "\n",
    "\n",
    "newMergedTestDF = pd.merge(test_rawdata, feamat_rawdata,left_on='Id', right_on='V1', how = \"left\")\n",
    "\n",
    "newMergedTestDF[['V1','Id']] = newMergedTestDF[['V1','Id']].replace('NOCAS_','999', regex=True)\n",
    "newMergedTestDF[['V1','Id']] = newMergedTestDF[['V1','Id']].replace('-*','',regex=True)\n",
    "newMergedTestDF =  newMergedTestDF.drop(['V1'],axis=1)#,'V2,'Id'\n",
    "\n",
    "\n",
    "print('-----------------1- DATA PREPARED SUCCESSFULLY-----------------')\n",
    "\n"
   ]
  },
  {
   "cell_type": "code",
   "execution_count": 5,
   "metadata": {},
   "outputs": [
    {
     "name": "stdout",
     "output_type": "stream",
     "text": [
      "-----------------2- DATA SPLITTED SUCCESSFULLY-----------------\n"
     ]
    }
   ],
   "source": [
    "columns_toDrop = [ 'Expected','V29','V30']#,'V29','V30'\n",
    "columns_toDropTest = ['V29','V30']#'V29','V30'\n",
    "#,'V33','V36','V49','V31','V35','V38','V45','V67'\n",
    "\n",
    "Y_train = newMergedDF[['Expected']].astype(int)\n",
    "X_train = newMergedDF.drop(columns_toDrop,axis=1)\n",
    "X_test = newMergedTestDF.drop(columns_toDropTest,axis=1)\n",
    "\n",
    "    \n",
    "\n",
    "imp = KNNImputer(n_neighbors=2, weights=\"uniform\")\n",
    "data = X_train\n",
    "imp = imp.fit(data)      \n",
    "data = imp.transform(data) \n",
    "X_train = pd.DataFrame(data)   \n",
    "\n",
    "\n",
    "\n",
    "imp = KNNImputer(n_neighbors=2, weights=\"uniform\")\n",
    "data = X_test\n",
    "imp = imp.fit(data)      \n",
    "data = imp.transform(data) \n",
    "X_test = pd.DataFrame(data)   \n",
    "\n",
    "\n",
    "\n",
    "print('-----------------2- DATA SPLITTED SUCCESSFULLY-----------------')\n",
    "\n"
   ]
  },
  {
   "cell_type": "code",
   "execution_count": 6,
   "metadata": {},
   "outputs": [
    {
     "name": "stdout",
     "output_type": "stream",
     "text": [
      "-----------------3- VARIANCE THRESHOLD FEATURE SELECTION 1------------------\n"
     ]
    }
   ],
   "source": [
    "# FEATURE SELECTION PART 1\n",
    "\n",
    "#APPLY VARIANCE THRESHOLD TO REMOVE SOME LABELS\n",
    "from sklearn.feature_selection import VarianceThreshold\n",
    "\n",
    "selector = VarianceThreshold(0.02)\n",
    "selector.fit(X_train)\n",
    "\n",
    "X_train= selector.transform(X_train)\n",
    "X_test= selector.transform(X_test)\n",
    "\n",
    "X_train = pd.DataFrame(X_train)\n",
    "X_test = pd.DataFrame(X_test)\n",
    "\n",
    "#print(X_train)\n",
    "#print(X_test)\n",
    "\n",
    "print('-----------------3- VARIANCE THRESHOLD FEATURE SELECTION 1------------------')"
   ]
  },
  {
   "cell_type": "code",
   "execution_count": 7,
   "metadata": {},
   "outputs": [
    {
     "name": "stderr",
     "output_type": "stream",
     "text": [
      "C:\\ProgramData\\Anaconda3\\lib\\site-packages\\xgboost\\sklearn.py:888: UserWarning: The use of label encoder in XGBClassifier is deprecated and will be removed in a future release. To remove this warning, do the following: 1) Pass option use_label_encoder=False when constructing XGBClassifier object; and 2) Encode your labels (y) as integers starting with 0, i.e. 0, 1, 2, ..., [num_class - 1].\n",
      "  warnings.warn(label_encoder_deprecation_msg, UserWarning)\n",
      "C:\\ProgramData\\Anaconda3\\lib\\site-packages\\sklearn\\utils\\validation.py:63: DataConversionWarning: A column-vector y was passed when a 1d array was expected. Please change the shape of y to (n_samples, ), for example using ravel().\n",
      "  return f(*args, **kwargs)\n"
     ]
    },
    {
     "name": "stdout",
     "output_type": "stream",
     "text": [
      "[03:42:22] WARNING: C:/Users/Administrator/workspace/xgboost-win64_release_1.3.0/src/learner.cc:1061: Starting in XGBoost 1.3.0, the default evaluation metric used with the objective 'binary:logistic' was changed from 'error' to 'logloss'. Explicitly set eval_metric if you'd like to restore the old behavior.\n"
     ]
    },
    {
     "name": "stderr",
     "output_type": "stream",
     "text": [
      "C:\\ProgramData\\Anaconda3\\lib\\site-packages\\xgboost\\sklearn.py:888: UserWarning: The use of label encoder in XGBClassifier is deprecated and will be removed in a future release. To remove this warning, do the following: 1) Pass option use_label_encoder=False when constructing XGBClassifier object; and 2) Encode your labels (y) as integers starting with 0, i.e. 0, 1, 2, ..., [num_class - 1].\n",
      "  warnings.warn(label_encoder_deprecation_msg, UserWarning)\n",
      "C:\\ProgramData\\Anaconda3\\lib\\site-packages\\sklearn\\utils\\validation.py:63: DataConversionWarning: A column-vector y was passed when a 1d array was expected. Please change the shape of y to (n_samples, ), for example using ravel().\n",
      "  return f(*args, **kwargs)\n"
     ]
    },
    {
     "name": "stdout",
     "output_type": "stream",
     "text": [
      "[03:43:49] WARNING: C:/Users/Administrator/workspace/xgboost-win64_release_1.3.0/src/learner.cc:1061: Starting in XGBoost 1.3.0, the default evaluation metric used with the objective 'binary:logistic' was changed from 'error' to 'logloss'. Explicitly set eval_metric if you'd like to restore the old behavior.\n"
     ]
    },
    {
     "name": "stderr",
     "output_type": "stream",
     "text": [
      "C:\\ProgramData\\Anaconda3\\lib\\site-packages\\xgboost\\sklearn.py:888: UserWarning: The use of label encoder in XGBClassifier is deprecated and will be removed in a future release. To remove this warning, do the following: 1) Pass option use_label_encoder=False when constructing XGBClassifier object; and 2) Encode your labels (y) as integers starting with 0, i.e. 0, 1, 2, ..., [num_class - 1].\n",
      "  warnings.warn(label_encoder_deprecation_msg, UserWarning)\n",
      "C:\\ProgramData\\Anaconda3\\lib\\site-packages\\sklearn\\utils\\validation.py:63: DataConversionWarning: A column-vector y was passed when a 1d array was expected. Please change the shape of y to (n_samples, ), for example using ravel().\n",
      "  return f(*args, **kwargs)\n"
     ]
    },
    {
     "name": "stdout",
     "output_type": "stream",
     "text": [
      "[03:44:53] WARNING: C:/Users/Administrator/workspace/xgboost-win64_release_1.3.0/src/learner.cc:1061: Starting in XGBoost 1.3.0, the default evaluation metric used with the objective 'binary:logistic' was changed from 'error' to 'logloss'. Explicitly set eval_metric if you'd like to restore the old behavior.\n"
     ]
    },
    {
     "name": "stderr",
     "output_type": "stream",
     "text": [
      "C:\\ProgramData\\Anaconda3\\lib\\site-packages\\xgboost\\sklearn.py:888: UserWarning: The use of label encoder in XGBClassifier is deprecated and will be removed in a future release. To remove this warning, do the following: 1) Pass option use_label_encoder=False when constructing XGBClassifier object; and 2) Encode your labels (y) as integers starting with 0, i.e. 0, 1, 2, ..., [num_class - 1].\n",
      "  warnings.warn(label_encoder_deprecation_msg, UserWarning)\n",
      "C:\\ProgramData\\Anaconda3\\lib\\site-packages\\sklearn\\utils\\validation.py:63: DataConversionWarning: A column-vector y was passed when a 1d array was expected. Please change the shape of y to (n_samples, ), for example using ravel().\n",
      "  return f(*args, **kwargs)\n"
     ]
    },
    {
     "name": "stdout",
     "output_type": "stream",
     "text": [
      "[03:45:26] WARNING: C:/Users/Administrator/workspace/xgboost-win64_release_1.3.0/src/learner.cc:1061: Starting in XGBoost 1.3.0, the default evaluation metric used with the objective 'binary:logistic' was changed from 'error' to 'logloss'. Explicitly set eval_metric if you'd like to restore the old behavior.\n",
      "-----------------4- RFE FEATURE SELECTION 2------------------\n"
     ]
    }
   ],
   "source": [
    "# FEATURE SELCTION PART 2\n",
    "\n",
    "#RFE DONE TO SELECT 200 LABLES AFTER VARINCE \n",
    "\n",
    "X_train1 = X_train\n",
    "Y_train1 = Y_train\n",
    "\n",
    "# define RFE\n",
    "\n",
    "model = XGBClassifier(random_state = 0)\n",
    "\n",
    "rfe = RFE(estimator=model,n_features_to_select=200, step = 0.30)\n",
    "rfe.fit(X_train1, Y_train1)\n",
    "\n",
    "X_train = pd.DataFrame(rfe.transform(X_train))\n",
    "X_test = pd.DataFrame(rfe.transform(X_test))\n",
    "\n",
    "#print(X_train)\n",
    "#print(X_test)\n",
    "\n",
    "print('-----------------4- RFE FEATURE SELECTION 2------------------')\n",
    "\n"
   ]
  },
  {
   "cell_type": "code",
   "execution_count": 8,
   "metadata": {},
   "outputs": [
    {
     "name": "stderr",
     "output_type": "stream",
     "text": [
      "C:\\ProgramData\\Anaconda3\\lib\\site-packages\\sklearn\\utils\\validation.py:63: DataConversionWarning: A column-vector y was passed when a 1d array was expected. Please change the shape of y to (n_samples, ), for example using ravel().\n",
      "  return f(*args, **kwargs)\n",
      "C:\\ProgramData\\Anaconda3\\lib\\site-packages\\sklearn\\utils\\validation.py:63: DataConversionWarning: A column-vector y was passed when a 1d array was expected. Please change the shape of y to (n_samples, ), for example using ravel().\n",
      "  return f(*args, **kwargs)\n",
      "C:\\ProgramData\\Anaconda3\\lib\\site-packages\\sklearn\\utils\\validation.py:63: DataConversionWarning: A column-vector y was passed when a 1d array was expected. Please change the shape of y to (n_samples, ), for example using ravel().\n",
      "  return f(*args, **kwargs)\n",
      "C:\\ProgramData\\Anaconda3\\lib\\site-packages\\sklearn\\utils\\validation.py:63: DataConversionWarning: A column-vector y was passed when a 1d array was expected. Please change the shape of y to (n_samples, ), for example using ravel().\n",
      "  return f(*args, **kwargs)\n",
      "C:\\ProgramData\\Anaconda3\\lib\\site-packages\\sklearn\\utils\\validation.py:63: DataConversionWarning: A column-vector y was passed when a 1d array was expected. Please change the shape of y to (n_samples, ), for example using ravel().\n",
      "  return f(*args, **kwargs)\n",
      "C:\\ProgramData\\Anaconda3\\lib\\site-packages\\sklearn\\utils\\validation.py:63: DataConversionWarning: A column-vector y was passed when a 1d array was expected. Please change the shape of y to (n_samples, ), for example using ravel().\n",
      "  return f(*args, **kwargs)\n",
      "C:\\ProgramData\\Anaconda3\\lib\\site-packages\\sklearn\\utils\\validation.py:63: DataConversionWarning: A column-vector y was passed when a 1d array was expected. Please change the shape of y to (n_samples, ), for example using ravel().\n",
      "  return f(*args, **kwargs)\n",
      "C:\\ProgramData\\Anaconda3\\lib\\site-packages\\sklearn\\utils\\validation.py:63: DataConversionWarning: A column-vector y was passed when a 1d array was expected. Please change the shape of y to (n_samples, ), for example using ravel().\n",
      "  return f(*args, **kwargs)\n",
      "C:\\ProgramData\\Anaconda3\\lib\\site-packages\\sklearn\\utils\\validation.py:63: DataConversionWarning: A column-vector y was passed when a 1d array was expected. Please change the shape of y to (n_samples, ), for example using ravel().\n",
      "  return f(*args, **kwargs)\n",
      "C:\\ProgramData\\Anaconda3\\lib\\site-packages\\sklearn\\utils\\validation.py:63: DataConversionWarning: A column-vector y was passed when a 1d array was expected. Please change the shape of y to (n_samples, ), for example using ravel().\n",
      "  return f(*args, **kwargs)\n",
      "C:\\ProgramData\\Anaconda3\\lib\\site-packages\\sklearn\\utils\\validation.py:63: DataConversionWarning: A column-vector y was passed when a 1d array was expected. Please change the shape of y to (n_samples, ), for example using ravel().\n",
      "  return f(*args, **kwargs)\n",
      "C:\\ProgramData\\Anaconda3\\lib\\site-packages\\sklearn\\utils\\validation.py:63: DataConversionWarning: A column-vector y was passed when a 1d array was expected. Please change the shape of y to (n_samples, ), for example using ravel().\n",
      "  return f(*args, **kwargs)\n",
      "C:\\ProgramData\\Anaconda3\\lib\\site-packages\\sklearn\\utils\\validation.py:63: DataConversionWarning: A column-vector y was passed when a 1d array was expected. Please change the shape of y to (n_samples, ), for example using ravel().\n",
      "  return f(*args, **kwargs)\n",
      "C:\\ProgramData\\Anaconda3\\lib\\site-packages\\sklearn\\utils\\validation.py:63: DataConversionWarning: A column-vector y was passed when a 1d array was expected. Please change the shape of y to (n_samples, ), for example using ravel().\n",
      "  return f(*args, **kwargs)\n",
      "C:\\ProgramData\\Anaconda3\\lib\\site-packages\\sklearn\\utils\\validation.py:63: DataConversionWarning: A column-vector y was passed when a 1d array was expected. Please change the shape of y to (n_samples, ), for example using ravel().\n",
      "  return f(*args, **kwargs)\n",
      "C:\\ProgramData\\Anaconda3\\lib\\site-packages\\sklearn\\utils\\validation.py:63: DataConversionWarning: A column-vector y was passed when a 1d array was expected. Please change the shape of y to (n_samples, ), for example using ravel().\n",
      "  return f(*args, **kwargs)\n",
      "C:\\ProgramData\\Anaconda3\\lib\\site-packages\\sklearn\\utils\\validation.py:63: DataConversionWarning: A column-vector y was passed when a 1d array was expected. Please change the shape of y to (n_samples, ), for example using ravel().\n",
      "  return f(*args, **kwargs)\n",
      "C:\\ProgramData\\Anaconda3\\lib\\site-packages\\sklearn\\utils\\validation.py:63: DataConversionWarning: A column-vector y was passed when a 1d array was expected. Please change the shape of y to (n_samples, ), for example using ravel().\n",
      "  return f(*args, **kwargs)\n",
      "C:\\ProgramData\\Anaconda3\\lib\\site-packages\\sklearn\\utils\\validation.py:63: DataConversionWarning: A column-vector y was passed when a 1d array was expected. Please change the shape of y to (n_samples, ), for example using ravel().\n",
      "  return f(*args, **kwargs)\n",
      "C:\\ProgramData\\Anaconda3\\lib\\site-packages\\sklearn\\utils\\validation.py:63: DataConversionWarning: A column-vector y was passed when a 1d array was expected. Please change the shape of y to (n_samples, ), for example using ravel().\n",
      "  return f(*args, **kwargs)\n",
      "C:\\ProgramData\\Anaconda3\\lib\\site-packages\\sklearn\\utils\\validation.py:63: DataConversionWarning: A column-vector y was passed when a 1d array was expected. Please change the shape of y to (n_samples, ), for example using ravel().\n",
      "  return f(*args, **kwargs)\n",
      "C:\\ProgramData\\Anaconda3\\lib\\site-packages\\sklearn\\utils\\validation.py:63: DataConversionWarning: A column-vector y was passed when a 1d array was expected. Please change the shape of y to (n_samples, ), for example using ravel().\n",
      "  return f(*args, **kwargs)\n",
      "C:\\ProgramData\\Anaconda3\\lib\\site-packages\\sklearn\\utils\\validation.py:63: DataConversionWarning: A column-vector y was passed when a 1d array was expected. Please change the shape of y to (n_samples, ), for example using ravel().\n",
      "  return f(*args, **kwargs)\n",
      "C:\\ProgramData\\Anaconda3\\lib\\site-packages\\sklearn\\utils\\validation.py:63: DataConversionWarning: A column-vector y was passed when a 1d array was expected. Please change the shape of y to (n_samples, ), for example using ravel().\n",
      "  return f(*args, **kwargs)\n",
      "C:\\ProgramData\\Anaconda3\\lib\\site-packages\\sklearn\\utils\\validation.py:63: DataConversionWarning: A column-vector y was passed when a 1d array was expected. Please change the shape of y to (n_samples, ), for example using ravel().\n",
      "  return f(*args, **kwargs)\n",
      "C:\\ProgramData\\Anaconda3\\lib\\site-packages\\sklearn\\utils\\validation.py:63: DataConversionWarning: A column-vector y was passed when a 1d array was expected. Please change the shape of y to (n_samples, ), for example using ravel().\n",
      "  return f(*args, **kwargs)\n",
      "C:\\ProgramData\\Anaconda3\\lib\\site-packages\\sklearn\\utils\\validation.py:63: DataConversionWarning: A column-vector y was passed when a 1d array was expected. Please change the shape of y to (n_samples, ), for example using ravel().\n",
      "  return f(*args, **kwargs)\n",
      "C:\\ProgramData\\Anaconda3\\lib\\site-packages\\sklearn\\utils\\validation.py:63: DataConversionWarning: A column-vector y was passed when a 1d array was expected. Please change the shape of y to (n_samples, ), for example using ravel().\n",
      "  return f(*args, **kwargs)\n",
      "C:\\ProgramData\\Anaconda3\\lib\\site-packages\\sklearn\\utils\\validation.py:63: DataConversionWarning: A column-vector y was passed when a 1d array was expected. Please change the shape of y to (n_samples, ), for example using ravel().\n",
      "  return f(*args, **kwargs)\n",
      "C:\\ProgramData\\Anaconda3\\lib\\site-packages\\sklearn\\utils\\validation.py:63: DataConversionWarning: A column-vector y was passed when a 1d array was expected. Please change the shape of y to (n_samples, ), for example using ravel().\n",
      "  return f(*args, **kwargs)\n",
      "C:\\ProgramData\\Anaconda3\\lib\\site-packages\\sklearn\\utils\\validation.py:63: DataConversionWarning: A column-vector y was passed when a 1d array was expected. Please change the shape of y to (n_samples, ), for example using ravel().\n",
      "  return f(*args, **kwargs)\n",
      "C:\\ProgramData\\Anaconda3\\lib\\site-packages\\sklearn\\utils\\validation.py:63: DataConversionWarning: A column-vector y was passed when a 1d array was expected. Please change the shape of y to (n_samples, ), for example using ravel().\n",
      "  return f(*args, **kwargs)\n"
     ]
    },
    {
     "name": "stderr",
     "output_type": "stream",
     "text": [
      "C:\\ProgramData\\Anaconda3\\lib\\site-packages\\sklearn\\utils\\validation.py:63: DataConversionWarning: A column-vector y was passed when a 1d array was expected. Please change the shape of y to (n_samples, ), for example using ravel().\n",
      "  return f(*args, **kwargs)\n",
      "C:\\ProgramData\\Anaconda3\\lib\\site-packages\\sklearn\\utils\\validation.py:63: DataConversionWarning: A column-vector y was passed when a 1d array was expected. Please change the shape of y to (n_samples, ), for example using ravel().\n",
      "  return f(*args, **kwargs)\n",
      "C:\\ProgramData\\Anaconda3\\lib\\site-packages\\sklearn\\utils\\validation.py:63: DataConversionWarning: A column-vector y was passed when a 1d array was expected. Please change the shape of y to (n_samples, ), for example using ravel().\n",
      "  return f(*args, **kwargs)\n",
      "C:\\ProgramData\\Anaconda3\\lib\\site-packages\\sklearn\\utils\\validation.py:63: DataConversionWarning: A column-vector y was passed when a 1d array was expected. Please change the shape of y to (n_samples, ), for example using ravel().\n",
      "  return f(*args, **kwargs)\n",
      "C:\\ProgramData\\Anaconda3\\lib\\site-packages\\sklearn\\utils\\validation.py:63: DataConversionWarning: A column-vector y was passed when a 1d array was expected. Please change the shape of y to (n_samples, ), for example using ravel().\n",
      "  return f(*args, **kwargs)\n",
      "C:\\ProgramData\\Anaconda3\\lib\\site-packages\\sklearn\\utils\\validation.py:63: DataConversionWarning: A column-vector y was passed when a 1d array was expected. Please change the shape of y to (n_samples, ), for example using ravel().\n",
      "  return f(*args, **kwargs)\n",
      "C:\\ProgramData\\Anaconda3\\lib\\site-packages\\sklearn\\utils\\validation.py:63: DataConversionWarning: A column-vector y was passed when a 1d array was expected. Please change the shape of y to (n_samples, ), for example using ravel().\n",
      "  return f(*args, **kwargs)\n",
      "C:\\ProgramData\\Anaconda3\\lib\\site-packages\\sklearn\\utils\\validation.py:63: DataConversionWarning: A column-vector y was passed when a 1d array was expected. Please change the shape of y to (n_samples, ), for example using ravel().\n",
      "  return f(*args, **kwargs)\n",
      "C:\\ProgramData\\Anaconda3\\lib\\site-packages\\sklearn\\utils\\validation.py:63: DataConversionWarning: A column-vector y was passed when a 1d array was expected. Please change the shape of y to (n_samples, ), for example using ravel().\n",
      "  return f(*args, **kwargs)\n",
      "C:\\ProgramData\\Anaconda3\\lib\\site-packages\\sklearn\\utils\\validation.py:63: DataConversionWarning: A column-vector y was passed when a 1d array was expected. Please change the shape of y to (n_samples, ), for example using ravel().\n",
      "  return f(*args, **kwargs)\n",
      "C:\\ProgramData\\Anaconda3\\lib\\site-packages\\sklearn\\utils\\validation.py:63: DataConversionWarning: A column-vector y was passed when a 1d array was expected. Please change the shape of y to (n_samples, ), for example using ravel().\n",
      "  return f(*args, **kwargs)\n",
      "C:\\ProgramData\\Anaconda3\\lib\\site-packages\\sklearn\\utils\\validation.py:63: DataConversionWarning: A column-vector y was passed when a 1d array was expected. Please change the shape of y to (n_samples, ), for example using ravel().\n",
      "  return f(*args, **kwargs)\n",
      "C:\\ProgramData\\Anaconda3\\lib\\site-packages\\sklearn\\utils\\validation.py:63: DataConversionWarning: A column-vector y was passed when a 1d array was expected. Please change the shape of y to (n_samples, ), for example using ravel().\n",
      "  return f(*args, **kwargs)\n",
      "C:\\ProgramData\\Anaconda3\\lib\\site-packages\\sklearn\\utils\\validation.py:63: DataConversionWarning: A column-vector y was passed when a 1d array was expected. Please change the shape of y to (n_samples, ), for example using ravel().\n",
      "  return f(*args, **kwargs)\n",
      "C:\\ProgramData\\Anaconda3\\lib\\site-packages\\sklearn\\utils\\validation.py:63: DataConversionWarning: A column-vector y was passed when a 1d array was expected. Please change the shape of y to (n_samples, ), for example using ravel().\n",
      "  return f(*args, **kwargs)\n",
      "C:\\ProgramData\\Anaconda3\\lib\\site-packages\\sklearn\\utils\\validation.py:63: DataConversionWarning: A column-vector y was passed when a 1d array was expected. Please change the shape of y to (n_samples, ), for example using ravel().\n",
      "  return f(*args, **kwargs)\n",
      "C:\\ProgramData\\Anaconda3\\lib\\site-packages\\sklearn\\utils\\validation.py:63: DataConversionWarning: A column-vector y was passed when a 1d array was expected. Please change the shape of y to (n_samples, ), for example using ravel().\n",
      "  return f(*args, **kwargs)\n",
      "C:\\ProgramData\\Anaconda3\\lib\\site-packages\\sklearn\\utils\\validation.py:63: DataConversionWarning: A column-vector y was passed when a 1d array was expected. Please change the shape of y to (n_samples, ), for example using ravel().\n",
      "  return f(*args, **kwargs)\n",
      "C:\\ProgramData\\Anaconda3\\lib\\site-packages\\sklearn\\utils\\validation.py:63: DataConversionWarning: A column-vector y was passed when a 1d array was expected. Please change the shape of y to (n_samples, ), for example using ravel().\n",
      "  return f(*args, **kwargs)\n",
      "C:\\ProgramData\\Anaconda3\\lib\\site-packages\\sklearn\\utils\\validation.py:63: DataConversionWarning: A column-vector y was passed when a 1d array was expected. Please change the shape of y to (n_samples, ), for example using ravel().\n",
      "  return f(*args, **kwargs)\n",
      "C:\\ProgramData\\Anaconda3\\lib\\site-packages\\sklearn\\utils\\validation.py:63: DataConversionWarning: A column-vector y was passed when a 1d array was expected. Please change the shape of y to (n_samples, ), for example using ravel().\n",
      "  return f(*args, **kwargs)\n",
      "C:\\ProgramData\\Anaconda3\\lib\\site-packages\\sklearn\\utils\\validation.py:63: DataConversionWarning: A column-vector y was passed when a 1d array was expected. Please change the shape of y to (n_samples, ), for example using ravel().\n",
      "  return f(*args, **kwargs)\n",
      "C:\\ProgramData\\Anaconda3\\lib\\site-packages\\sklearn\\utils\\validation.py:63: DataConversionWarning: A column-vector y was passed when a 1d array was expected. Please change the shape of y to (n_samples, ), for example using ravel().\n",
      "  return f(*args, **kwargs)\n",
      "C:\\ProgramData\\Anaconda3\\lib\\site-packages\\sklearn\\utils\\validation.py:63: DataConversionWarning: A column-vector y was passed when a 1d array was expected. Please change the shape of y to (n_samples, ), for example using ravel().\n",
      "  return f(*args, **kwargs)\n",
      "C:\\ProgramData\\Anaconda3\\lib\\site-packages\\sklearn\\utils\\validation.py:63: DataConversionWarning: A column-vector y was passed when a 1d array was expected. Please change the shape of y to (n_samples, ), for example using ravel().\n",
      "  return f(*args, **kwargs)\n",
      "C:\\ProgramData\\Anaconda3\\lib\\site-packages\\sklearn\\utils\\validation.py:63: DataConversionWarning: A column-vector y was passed when a 1d array was expected. Please change the shape of y to (n_samples, ), for example using ravel().\n",
      "  return f(*args, **kwargs)\n",
      "C:\\ProgramData\\Anaconda3\\lib\\site-packages\\sklearn\\utils\\validation.py:63: DataConversionWarning: A column-vector y was passed when a 1d array was expected. Please change the shape of y to (n_samples, ), for example using ravel().\n",
      "  return f(*args, **kwargs)\n",
      "C:\\ProgramData\\Anaconda3\\lib\\site-packages\\sklearn\\utils\\validation.py:63: DataConversionWarning: A column-vector y was passed when a 1d array was expected. Please change the shape of y to (n_samples, ), for example using ravel().\n",
      "  return f(*args, **kwargs)\n"
     ]
    },
    {
     "name": "stdout",
     "output_type": "stream",
     "text": [
      "-----------------5- RFECV FEATURE SELECTION 3------------------\n"
     ]
    }
   ],
   "source": [
    "# FEATURE SELCTION PART 3\n",
    "\n",
    "#RFECV DONE TO SELECT LABLES AFTER RFE \n",
    "\n",
    "\n",
    "X_train1 = X_train\n",
    "Y_train1 = Y_train\n",
    "\n",
    "rfecv = RFECV(cv=5,estimator=GradientBoostingClassifier(random_state=0),min_features_to_select=30, scoring='f1_macro', step=0.1)\n",
    "rfecv.fit(X_train1, Y_train1)\n",
    "\n",
    "X_train = pd.DataFrame(rfecv.transform(X_train))\n",
    "X_test = pd.DataFrame(rfecv.transform(X_test))\n",
    "\n",
    "\n",
    "print('-----------------5- RFECV FEATURE SELECTION 3------------------')\n",
    "\n"
   ]
  },
  {
   "cell_type": "code",
   "execution_count": 9,
   "metadata": {},
   "outputs": [],
   "source": [
    "#DO NOT USE THIS- ONLY FOR TESTING\n",
    "#FEATURE SELCTION PART 4\n",
    "\n",
    "#SELECTKBEST ANNOVA DONE TO SELECT 40 LABLES AFTER RFECV\n",
    "\n",
    "\n",
    "#skbest = SelectKBest(f_classif, k=40).fit(X_train, Y_train)\n",
    "#X_train = skbest.transform(X_train)\n",
    "#X_test = skbest.transform(X_test)\n",
    "\n",
    "\n",
    "#print('-----------------6- SELECTKBEST FEATURE SELECTION 4------------------')\n"
   ]
  },
  {
   "cell_type": "code",
   "execution_count": 10,
   "metadata": {},
   "outputs": [],
   "source": [
    "#CHECK THE DIMENSION OF THE DATA HERE \n",
    "\n",
    "#X_train = pd.DataFrame(X_train)\n",
    "#X_test = pd.DataFrame(X_test)\n",
    "\n",
    "#print(X_train)\n",
    "#print(X_train)"
   ]
  },
  {
   "cell_type": "code",
   "execution_count": 11,
   "metadata": {},
   "outputs": [
    {
     "name": "stderr",
     "output_type": "stream",
     "text": [
      "C:\\ProgramData\\Anaconda3\\lib\\site-packages\\xgboost\\sklearn.py:888: UserWarning: The use of label encoder in XGBClassifier is deprecated and will be removed in a future release. To remove this warning, do the following: 1) Pass option use_label_encoder=False when constructing XGBClassifier object; and 2) Encode your labels (y) as integers starting with 0, i.e. 0, 1, 2, ..., [num_class - 1].\n",
      "  warnings.warn(label_encoder_deprecation_msg, UserWarning)\n",
      "C:\\ProgramData\\Anaconda3\\lib\\site-packages\\sklearn\\utils\\validation.py:63: DataConversionWarning: A column-vector y was passed when a 1d array was expected. Please change the shape of y to (n_samples, ), for example using ravel().\n",
      "  return f(*args, **kwargs)\n"
     ]
    },
    {
     "name": "stdout",
     "output_type": "stream",
     "text": [
      "[04:19:12] WARNING: C:/Users/Administrator/workspace/xgboost-win64_release_1.3.0/src/learner.cc:1061: Starting in XGBoost 1.3.0, the default evaluation metric used with the objective 'binary:logistic' was changed from 'error' to 'logloss'. Explicitly set eval_metric if you'd like to restore the old behavior.\n",
      "F1 Macro Score: 0.8085145591717199\n",
      "-----------------7- INTERNAL VALIDATION ------------------\n"
     ]
    }
   ],
   "source": [
    "#INTERNAL VALIDATION OF THE MODEL\n",
    "#F1 MACRO SCORE -- RANDOMOVER SAMPLING AND SCALING\n",
    " \n",
    "\n",
    "\n",
    "train_X, val_X, train_y, val_y = train_test_split(X_train, Y_train, random_state=0,test_size=0.2)\n",
    "\n",
    "\n",
    "ROS = RandomOverSampler(random_state=42)\n",
    "train_X,train_y = ROS.fit_resample(train_X,train_y)\n",
    "\n",
    "\n",
    "feature_scaler = StandardScaler()\n",
    "train_X = feature_scaler.fit_transform(train_X)\n",
    "val_X = feature_scaler.transform(val_X)\n",
    "\n",
    "\n",
    "model = XGBClassifier(base_score=0.5, booster='gbtree', colsample_bylevel=1,\n",
    "                          colsample_bynode=1, colsample_bytree=0.9293233097407273,\n",
    "                          gamma=0.22110176557762784, gpu_id=-1, importance_type='gain',\n",
    "                          interaction_constraints='', learning_rate=0.05, #0.1510928495444365,\n",
    "                          max_delta_step=1, max_depth=14, min_child_weight=1,\n",
    "                          monotone_constraints='()', n_estimators=600, n_jobs=-1,\n",
    "                          num_parallel_tree=1, random_state=0, reg_alpha=0, reg_lambda=1,\n",
    "                          scale_pos_weight=1, subsample=0.779274053965761,\n",
    "                          tree_method='exact', validate_parameters=1, verbosity=None)\n",
    "\n",
    "model = model.fit(train_X, train_y)\n",
    "\n",
    "y_pred = model.predict(val_X)\n",
    "\n",
    "\n",
    "macro_score = f1_score(val_y, y_pred, average='macro')\n",
    "print('F1 Macro Score:',macro_score)\n",
    "\n",
    "print('-----------------7- INTERNAL VALIDATION ------------------')\n"
   ]
  },
  {
   "cell_type": "code",
   "execution_count": 12,
   "metadata": {},
   "outputs": [
    {
     "name": "stdout",
     "output_type": "stream",
     "text": [
      "-----------------8- SAMPLING DONE SUCESSFULLY------------------\n"
     ]
    }
   ],
   "source": [
    "#RANDOM OVER SAMPLING DONE ON THE ENTIRE TRAINING DATA\n",
    "\n",
    "\n",
    "ovs = RandomOverSampler(random_state=42)\n",
    "X_train,Y_train = ovs.fit_resample(X_train,Y_train)\n",
    "\n",
    "\n",
    "print('-----------------8- SAMPLING DONE SUCESSFULLY------------------')\n"
   ]
  },
  {
   "cell_type": "code",
   "execution_count": 13,
   "metadata": {},
   "outputs": [
    {
     "name": "stdout",
     "output_type": "stream",
     "text": [
      "-----------------9- SCALING DONE SUCESSFULLY------------------\n"
     ]
    }
   ],
   "source": [
    "#STANDARD SCALING DONE ON THE ENTIRE TRAINING DATA\n",
    "\n",
    "feature_scaler = StandardScaler()\n",
    "X_train = feature_scaler.fit_transform(X_train)\n",
    "X_test = feature_scaler.transform(X_test)\n",
    "\n",
    "print('-----------------9- SCALING DONE SUCESSFULLY------------------')\n",
    "\n"
   ]
  },
  {
   "cell_type": "code",
   "execution_count": 14,
   "metadata": {},
   "outputs": [
    {
     "name": "stderr",
     "output_type": "stream",
     "text": [
      "C:\\ProgramData\\Anaconda3\\lib\\site-packages\\xgboost\\sklearn.py:888: UserWarning: The use of label encoder in XGBClassifier is deprecated and will be removed in a future release. To remove this warning, do the following: 1) Pass option use_label_encoder=False when constructing XGBClassifier object; and 2) Encode your labels (y) as integers starting with 0, i.e. 0, 1, 2, ..., [num_class - 1].\n",
      "  warnings.warn(label_encoder_deprecation_msg, UserWarning)\n",
      "C:\\ProgramData\\Anaconda3\\lib\\site-packages\\sklearn\\utils\\validation.py:63: DataConversionWarning: A column-vector y was passed when a 1d array was expected. Please change the shape of y to (n_samples, ), for example using ravel().\n",
      "  return f(*args, **kwargs)\n"
     ]
    },
    {
     "name": "stdout",
     "output_type": "stream",
     "text": [
      "[04:22:09] WARNING: C:/Users/Administrator/workspace/xgboost-win64_release_1.3.0/src/learner.cc:1061: Starting in XGBoost 1.3.0, the default evaluation metric used with the objective 'binary:logistic' was changed from 'error' to 'logloss'. Explicitly set eval_metric if you'd like to restore the old behavior.\n",
      "-----------------10- MODEL FITTING AND PREDICTING DONE SUCESSFULLY------------------\n"
     ]
    }
   ],
   "source": [
    "#DATA LOADING AND PREDICTIONS ON THE MODEL\n",
    "\n",
    "\n",
    "XGB = XGBClassifier(base_score=0.5, booster='gbtree', colsample_bylevel=1,\n",
    "                          colsample_bynode=1, colsample_bytree=0.9293233097407273,\n",
    "                          gamma=0.22110176557762784, gpu_id=-1, importance_type='gain',\n",
    "                          interaction_constraints='', learning_rate=0.05, #0.1510928495444365,\n",
    "                          max_delta_step=1, max_depth=14, min_child_weight=1,\n",
    "                          monotone_constraints='()', n_estimators=600, n_jobs=-1,\n",
    "                          num_parallel_tree=1, random_state=0, reg_alpha=0, reg_lambda=1,\n",
    "                          scale_pos_weight=1, subsample=0.779274053965761,\n",
    "                          tree_method='exact', validate_parameters=1, verbosity=None).fit(X_train,Y_train)\n",
    "Y_prediction = XGB.predict(X_test) \n",
    "\n",
    "\n",
    "\n",
    "print('-----------------10- MODEL FITTING AND PREDICTING DONE SUCESSFULLY------------------')"
   ]
  },
  {
   "cell_type": "code",
   "execution_count": 15,
   "metadata": {},
   "outputs": [
    {
     "name": "stdout",
     "output_type": "stream",
     "text": [
      "<class 'pandas.core.frame.DataFrame'>\n",
      "RangeIndex: 11139 entries, 0 to 11138\n",
      "Data columns (total 1 columns):\n",
      " #   Column  Non-Null Count  Dtype \n",
      "---  ------  --------------  ----- \n",
      " 0   x       11139 non-null  object\n",
      "dtypes: object(1)\n",
      "memory usage: 87.1+ KB\n",
      "None\n",
      "<class 'pandas.core.frame.DataFrame'>\n",
      "RangeIndex: 11139 entries, 0 to 11138\n",
      "Data columns (total 1 columns):\n",
      " #   Column     Non-Null Count  Dtype\n",
      "---  ------     --------------  -----\n",
      " 0   Predicted  11139 non-null  int32\n",
      "dtypes: int32(1)\n",
      "memory usage: 43.6 KB\n",
      "None\n",
      "<class 'pandas.core.frame.DataFrame'>\n",
      "RangeIndex: 11139 entries, 0 to 11138\n",
      "Data columns (total 2 columns):\n",
      " #   Column     Non-Null Count  Dtype \n",
      "---  ------     --------------  ----- \n",
      " 0   Id         11139 non-null  object\n",
      " 1   Predicted  11139 non-null  int32 \n",
      "dtypes: int32(1), object(1)\n",
      "memory usage: 130.7+ KB\n",
      "None\n",
      "-----------------11- PREDICTION RESULT EXCEL EXPORTED SUCESSFULLY------------------\n"
     ]
    }
   ],
   "source": [
    "#EXPORT THE EXCEL FILE OF THE PREDICTION\n",
    "\n",
    "finalExpected = pd.DataFrame(Y_prediction, columns = ['Predicted'])\n",
    "\n",
    "test_rawdata1 = pd.read_csv(url_test_datafile)\n",
    "\n",
    "finalResultConcated =  pd.concat([test_rawdata1, finalExpected],axis=1)\n",
    "finalResultConcated.rename(columns = {'x':'Id'}, inplace = True)\n",
    "\n",
    "finalResultConcated.to_csv('Maple_Squad-1.csv',index=False)\n",
    "print(test_rawdata1.info())\n",
    "print(finalExpected.info())\n",
    "print(finalResultConcated.info())\n",
    "\n",
    "\n",
    "\n",
    "print('-----------------11- PREDICTION RESULT EXCEL EXPORTED SUCESSFULLY------------------')"
   ]
  },
  {
   "cell_type": "code",
   "execution_count": 16,
   "metadata": {},
   "outputs": [],
   "source": [
    "\n",
    "#USED FOR HYPERPARAMETER TUNING OF XGB ONLY ONCE TO GET THE BEST PARAMETER \n",
    "\n",
    "#----------------------DO NOT RUN THIS---ITS A ONE TIME CODE-------------------\n",
    "\n",
    "#----------------------TIME-TAKEN: 2 DAYS -------------------------------------\n",
    "\n",
    "\n",
    "#from sklearn.model_selection import train_test_split, RandomizedSearchCV\n",
    "#def build_xgboost(X_train, y_train, X_test, y_test, n_iter):\n",
    "#    from scipy.stats import randint, uniform\n",
    "#    xgb_param_fixed = {        \n",
    "#        'max_delta_step': 1,\n",
    "#        'n_jobs': -1,\n",
    "#        'n_estimators': 300,\n",
    "#        'learning_rate': 0.1}\n",
    "#    xgb_base = XGBClassifier(**xgb_param_fixed)\n",
    "\n",
    "#    xgb_param_options = {\n",
    "#        'max_depth': randint(low=3, high=15),\n",
    "#        'colsample_bytree': uniform(loc=0.7, scale=0.3),\n",
    "#        'subsample': uniform(loc=0.7, scale=0.3),\n",
    "#        'learning_rate':uniform(loc=0.05, scale=0.30),\n",
    "#        'min_child_weight':randint(low=1, high=7),\n",
    "#        'gamma':uniform(loc=0.0, scale=0.4) }\n",
    "    \n",
    "#    eval_set = [(X_train, y_train), (X_test, y_test)]\n",
    "#    xgb_fit_params = {   \n",
    "#        'eval_metric': 'auc', \n",
    "#        'eval_set': eval_set,\n",
    "#        'early_stopping_rounds': 5,\n",
    "#        'verbose': False\n",
    "#    }\n",
    "\n",
    "#   model_xgb = RandomizedSearchCV(\n",
    "#        estimator=xgb_base,\n",
    "#        param_distributions=xgb_param_options,\n",
    "#        cv=10,   \n",
    "#        n_iter=n_iter,\n",
    "#        n_jobs=-1,\n",
    "#        verbose=1\n",
    "#    ).fit(X_train, y_train, **xgb_fit_params)\n",
    "    \n",
    "#    print('Best score obtained: {0}'.format(model_xgb.best_score_))\n",
    "#    print('Best Parameters:')\n",
    "#    for param, value in model_xgb.best_params_.items():\n",
    "#        print('\\t{}: {}'.format(param, value))\n",
    "\n",
    "#    return model_xgb.best_estimator_\n",
    "\n",
    "#train_X, val_X, train_y, val_y = train_test_split(X_train, Y_train, random_state=42)\n",
    "\n",
    "#xgb_model = build_xgboost(train_X, train_y, val_X, val_y, n_iter=15)\n",
    "#ntree_limit = xgb_model.best_ntree_limit\n",
    "#y_pred_prob = xgb_model.predict_proba(val_X, ntree_limit=ntree_limit)[:, 1]\n",
    "#print('auc:', roc_auc_score(val_y, y_pred_prob))+*9\n",
    "\n",
    "#----------OUTPUT--------------------\n",
    "#Best Parameters:\n",
    "#\tcolsample_bytree: 0.9293233097407273\n",
    "#\tgamma: 0.22110176557762784\n",
    "#\tlearning_rate: 0.1510928495444365\n",
    "#\tmax_depth: 14\n",
    "#\tmin_child_weight: 1\n",
    "#\tsubsample: 0.779274053965761\n",
    "\n",
    "#XGBClassifier(base_score=0.5, booster='gbtree', colsample_bylevel=1,\n",
    "#              colsample_bynode=1, colsample_bytree=0.9293233097407273,\n",
    "#              gamma=0.22110176557762784, gpu_id=-1, importance_type='gain',\n",
    "#              interaction_constraints='', learning_rate=0.1510928495444365,\n",
    "#              max_delta_step=1, max_depth=14, min_child_weight=1, missing=nan,\n",
    "#              monotone_constraints='()', n_estimators=300, n_jobs=-1,\n",
    "#              num_parallel_tree=1, random_state=0, reg_alpha=0, reg_lambda=1,\n",
    "#              scale_pos_weight=1, subsample=0.779274053965761,\n",
    "#              tree_method='exact', validate_parameters=1, verbosity=None)"
   ]
  },
  {
   "cell_type": "code",
   "execution_count": 17,
   "metadata": {},
   "outputs": [],
   "source": [
    "#----------------------------- CODE ENDS HERE--------------------------- \n",
    "\n",
    "\n",
    "#------------------------BELOW CODE ONLY USED FOR TESTING-------------------------"
   ]
  },
  {
   "cell_type": "code",
   "execution_count": 18,
   "metadata": {},
   "outputs": [],
   "source": [
    "#ONLY FOR TESTING PURPOSES \n",
    "\n",
    "\n",
    "#X_train = pd.DataFrame(X_train)\n",
    "#importances = pd.DataFrame({'feature':X_train.columns,'importance':np.round(XGB.feature_importances_,3)})\n",
    "#importances = importances.sort_values('importance',ascending=True).set_index('feature')\n",
    "#print(importances.head(60))\n"
   ]
  }
 ],
 "metadata": {
  "kernelspec": {
   "display_name": "Python 3",
   "language": "python",
   "name": "python3"
  },
  "language_info": {
   "codemirror_mode": {
    "name": "ipython",
    "version": 3
   },
   "file_extension": ".py",
   "mimetype": "text/x-python",
   "name": "python",
   "nbconvert_exporter": "python",
   "pygments_lexer": "ipython3",
   "version": "3.8.5"
  }
 },
 "nbformat": 4,
 "nbformat_minor": 4
}
